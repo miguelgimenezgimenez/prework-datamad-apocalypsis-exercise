{
 "cells": [
  {
   "cell_type": "markdown",
   "metadata": {},
   "source": [
    "# Apocalipsis zombie\n",
    "\n",
    "![](./images/thewalkingdead.jpeg)\n",
    "\n",
    "Cargas un arsenal de armas y una mochila con cargadores de munición de tamaño variable para algunos tipos de armas. ¿Cuántos zombies puedes matar antes de tener que echar a correr por tu vida? Deberás imprimir el resultado de cada caso que corresponde al número de balas que tienes de las armas que cargas.  \n",
    "\n",
    "ALGORITMO: Por cada arma diferente que cargas, tienes que comprobar si portas cargadores para ella. Si esto es afirmativo deberás sumar el total de balas que podrás disparar. "
   ]
  },
  {
   "cell_type": "markdown",
   "metadata": {},
   "source": [
    "## Caso 0: Ejemplo simple"
   ]
  },
  {
   "cell_type": "code",
   "execution_count": 5,
   "metadata": {},
   "outputs": [
    {
     "data": {
      "text/plain": [
       "30"
      ]
     },
     "execution_count": 5,
     "metadata": {},
     "output_type": "execute_result"
    }
   ],
   "source": [
    "from functools import reduce\n",
    "armas = ['pistola','escopeta']\n",
    "\n",
    "cargadores = {\n",
    "    'pistola': [10, 10], \n",
    "    'escopeta': [2, 2, 2, 2, 2]\n",
    "    \n",
    "}\n",
    "balas = 0\n",
    "for arm in armas:\n",
    "    \n",
    "    weapon_bullets = cargadores.get(arm)\n",
    "    if weapon_bullets:\n",
    "        balas += reduce(lambda x,y: x+y, weapon_bullets)\n",
    "        \n",
    "balas\n",
    "# your code\n"
   ]
  },
  {
   "cell_type": "markdown",
   "metadata": {},
   "source": [
    "**Output esperado** -> 30"
   ]
  },
  {
   "cell_type": "markdown",
   "metadata": {},
   "source": [
    "## Caso 1: Mismas armas que municiones"
   ]
  },
  {
   "cell_type": "code",
   "execution_count": 7,
   "metadata": {},
   "outputs": [
    {
     "data": {
      "text/plain": [
       "158"
      ]
     },
     "execution_count": 7,
     "metadata": {},
     "output_type": "execute_result"
    }
   ],
   "source": [
    "from functools import reduce\n",
    "\n",
    "armas = ['pistola', 'ametralladora', 'escopeta', 'fusil de francotirador']\n",
    "\n",
    "cargadores = {\n",
    "    'pistola': [12, 13, 4, 5, 20, 17], \n",
    "    'ametralladora': [33, 40], \n",
    "    'escopeta': [2, 2, 2, 1], \n",
    "    'fusil de francotirador': [1, 2, 4]\n",
    "}\n",
    "\n",
    "balas = 0\n",
    "for arm in armas:\n",
    "    \n",
    "    weapon_bullets = cargadores.get(arm)\n",
    "    if weapon_bullets:\n",
    "        balas += reduce(lambda x,y: x+y, weapon_bullets)\n",
    "        \n",
    "balas\n",
    "# your code\n"
   ]
  },
  {
   "cell_type": "markdown",
   "metadata": {},
   "source": [
    "## Caso 2: Más tipos de munición que armas"
   ]
  },
  {
   "cell_type": "code",
   "execution_count": 8,
   "metadata": {},
   "outputs": [
    {
     "data": {
      "text/plain": [
       "158"
      ]
     },
     "execution_count": 8,
     "metadata": {},
     "output_type": "execute_result"
    }
   ],
   "source": [
    "from functools import reduce\n",
    "\n",
    "armas = ['pistola', 'ametralladora', 'escopeta', 'fusil de francotirador']\n",
    "\n",
    "cargadores = {\n",
    "    'pistola': [12, 13, 4, 5, 20, 17], \n",
    "    'ametralladora': [33, 40], \n",
    "    'escopeta': [2, 2, 2, 1], \n",
    "    'fusil de francotirador': [1, 2, 4], \n",
    "    'bazoka': [1, 1]\n",
    "}\n",
    "\n",
    "balas = 0\n",
    "for arm in armas:\n",
    "    \n",
    "    weapon_bullets = cargadores.get(arm)\n",
    "    if weapon_bullets:\n",
    "        balas += reduce(lambda x,y: x+y, weapon_bullets)\n",
    "        \n",
    "balas\n",
    "\n"
   ]
  },
  {
   "cell_type": "markdown",
   "metadata": {},
   "source": [
    "## Caso 3: Más armas que tipos de munición"
   ]
  },
  {
   "cell_type": "code",
   "execution_count": 9,
   "metadata": {},
   "outputs": [
    {
     "data": {
      "text/plain": [
       "151"
      ]
     },
     "execution_count": 9,
     "metadata": {},
     "output_type": "execute_result"
    }
   ],
   "source": [
    "armas = ['pistola', 'ametralladora', 'escopeta', 'fusil de francotirador']\n",
    "\n",
    "cargadores = {\n",
    "    'pistola': [12, 13, 4, 5, 20, 17], \n",
    "    'ametralladora': [33, 40], \n",
    "    'escopeta': [2, 2, 2, 1] \n",
    "}\n",
    "\n",
    "balas = 0\n",
    "for arm in armas:\n",
    "    \n",
    "    weapon_bullets = cargadores.get(arm)\n",
    "    if weapon_bullets:\n",
    "        balas += reduce(lambda x,y: x+y, weapon_bullets)\n",
    "        \n",
    "balas\n",
    "\n",
    "\n"
   ]
  },
  {
   "cell_type": "code",
   "execution_count": null,
   "metadata": {},
   "outputs": [],
   "source": []
  }
 ],
 "metadata": {
  "kernelspec": {
   "display_name": "Python 3",
   "language": "python",
   "name": "python3"
  },
  "language_info": {
   "codemirror_mode": {
    "name": "ipython",
    "version": 3
   },
   "file_extension": ".py",
   "mimetype": "text/x-python",
   "name": "python",
   "nbconvert_exporter": "python",
   "pygments_lexer": "ipython3",
   "version": "3.7.7"
  }
 },
 "nbformat": 4,
 "nbformat_minor": 2
}
